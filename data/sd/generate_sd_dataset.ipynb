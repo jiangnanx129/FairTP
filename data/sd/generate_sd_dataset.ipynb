{
 "cells": [
  {
   "cell_type": "code",
   "execution_count": 1,
   "id": "ec36e04a-2fd1-46f3-93f6-6b1a7c43d16a",
   "metadata": {},
   "outputs": [],
   "source": [
    "import numpy as np\n",
    "import pandas as pd\n",
    "\n",
    "ca_meta = pd.read_csv('../ca/ca_meta.csv')\n",
    "sd_meta = ca_meta[ca_meta.District == 11]\n",
    "sd_meta = sd_meta.reset_index()\n",
    "sd_meta = sd_meta.drop(columns=['index'])\n",
    "sd_meta.to_csv('sd_meta.csv', index=False)\n",
    "print(sd_meta[sd_meta.duplicated(subset=['Lat', 'Lng'])])\n",
    "sd_meta"
   ]
  },
  {
   "cell_type": "code",
   "execution_count": null,
   "id": "7176890b-1900-42d2-8ee1-423a411c3897",
   "metadata": {},
   "outputs": [],
   "source": [
    "sd_meta_id2 = sd_meta.ID2.values.tolist()\n",
    "print(len(sd_meta_id2))\n",
    "\n",
    "ca_rn_adj = np.load('../ca/ca_rn_adj.npy')\n",
    "print(ca_rn_adj.shape)\n",
    "\n",
    "sd_rn_adj = ca_rn_adj[sd_meta_id2]\n",
    "sd_rn_adj = sd_rn_adj[:,sd_meta_id2]\n",
    "print(sd_rn_adj.shape)\n",
    "\n",
    "np.save('sd_rn_adj.npy', sd_rn_adj)"
   ]
  },
  {
   "cell_type": "code",
   "execution_count": 1,
   "id": "4df7b8be-6f11-44ec-99ec-dd71298bc158",
   "metadata": {},
   "outputs": [],
   "source": [
    "year = ''  # please specify the year, our experiments use 2019\n",
    "\n",
    "sd_meta.ID = sd_meta.ID.astype(str)\n",
    "sd_meta_id = sd_meta.ID.values.tolist()\n",
    "\n",
    "ca_his = pd.read_hdf('../ca/ca_his_' + year +'.h5')\n",
    "sd_his = ca_his[sd_meta_id]\n",
    "sd_his"
   ]
  },
  {
   "cell_type": "code",
   "execution_count": 2,
   "id": "3733a22b-4252-4a48-ad9b-e20c062278ee",
   "metadata": {},
   "outputs": [],
   "source": [
    "sd_his.to_hdf('sd_his_' + year + '.h5', key='t', mode='w')\n",
    "sd_his.shape"
   ]
  },
  {
   "cell_type": "code",
   "execution_count": null,
   "id": "22f8a21f-3127-413a-a97a-a3b4c937632b",
   "metadata": {},
   "outputs": [],
   "source": []
  },
  {
   "cell_type": "code",
   "execution_count": 3,
   "id": "e41fa33a-8ac0-4d88-9c20-21e855803b7d",
   "metadata": {},
   "outputs": [],
   "source": [
    "# code for checking adj stat\n",
    "sd_rn_adj = np.load('sd_rn_adj.npy')\n",
    "node_num = sd_rn_adj.shape[0]\n",
    "\n",
    "print(sd_rn_adj[0,0])\n",
    "sd_rn_adj[np.arange(node_num), np.arange(node_num)] = 0\n",
    "print(sd_rn_adj[0,0])\n",
    "\n",
    "print('edge number', np.count_nonzero(sd_rn_adj))\n",
    "print('node degree', np.mean(np.count_nonzero(sd_rn_adj, axis=-1)))\n",
    "print('sparsity', np.count_nonzero(sd_rn_adj) / (node_num**2) * 100)"
   ]
  },
  {
   "cell_type": "code",
   "execution_count": null,
   "id": "f7e82eeb-26d0-4528-8889-40335b814dbb",
   "metadata": {},
   "outputs": [],
   "source": []
  }
 ],
 "metadata": {
  "kernelspec": {
   "display_name": "torch",
   "language": "python",
   "name": "torch"
  },
  "language_info": {
   "codemirror_mode": {
    "name": "ipython",
    "version": 3
   },
   "file_extension": ".py",
   "mimetype": "text/x-python",
   "name": "python",
   "nbconvert_exporter": "python",
   "pygments_lexer": "ipython3",
   "version": "3.7.10"
  }
 },
 "nbformat": 4,
 "nbformat_minor": 5
}
